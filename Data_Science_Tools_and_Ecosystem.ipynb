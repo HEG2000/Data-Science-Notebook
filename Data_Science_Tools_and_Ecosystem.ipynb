{
  "metadata": {
    "kernelspec": {
      "name": "python",
      "display_name": "Python (Pyodide)",
      "language": "python"
    },
    "language_info": {
      "codemirror_mode": {
        "name": "python",
        "version": 3
      },
      "file_extension": ".py",
      "mimetype": "text/x-python",
      "name": "python",
      "nbconvert_exporter": "python",
      "pygments_lexer": "ipython3",
      "version": "3.8"
    }
  },
  "nbformat_minor": 4,
  "nbformat": 4,
  "cells": [
    {
      "cell_type": "markdown",
      "source": "# Data Science Tools and Ecosystem",
      "metadata": {}
    },
    {
      "cell_type": "markdown",
      "source": "This notebook provides an overview of Data Science tools and techniques. It includes a list of languages, libraries, tools, and some examples of simple arithmetic operations.\n",
      "metadata": {}
    },
    {
      "cell_type": "markdown",
      "source": "## Data Science Languages  \n- Python  \n- R  \n- SQL  \n- Julia  \n",
      "metadata": {}
    },
    {
      "cell_type": "markdown",
      "source": "## Data Science Libraries  \n- Pandas  \n- NumPy  \n- Matplotlib  \n- Scikit-learn  \n- TensorFlow  \n",
      "metadata": {}
    },
    {
      "cell_type": "markdown",
      "source": "## Data Science Tools  \n\n| Tool          | Description                      |  \n|---------------|----------------------------------|  \n| JupyterLab    | Notebook interface for Python   |  \n| RStudio       | IDE for R programming           |  \n| Apache Spark  | Big data processing framework   |  \n",
      "metadata": {}
    },
    {
      "cell_type": "markdown",
      "source": "## Arithmetic Expression Examples  \nBelow are examples of arithmetic operations such as addition, subtraction, multiplication, and division.\n",
      "metadata": {}
    },
    {
      "cell_type": "code",
      "source": "# Multiplication and addition example\nresult = (3 * 4) + 5\nresult\n",
      "metadata": {
        "trusted": true
      },
      "outputs": [
        {
          "execution_count": 1,
          "output_type": "execute_result",
          "data": {
            "text/plain": "17"
          },
          "metadata": {}
        }
      ],
      "execution_count": 1
    },
    {
      "cell_type": "code",
      "source": "# Convert 120 minutes to hours\nminutes = 120\nhours = minutes / 60\nhours",
      "metadata": {
        "trusted": true
      },
      "outputs": [
        {
          "execution_count": 2,
          "output_type": "execute_result",
          "data": {
            "text/plain": "2.0"
          },
          "metadata": {}
        }
      ],
      "execution_count": 2
    },
    {
      "cell_type": "markdown",
      "source": "## Objectives  \n- List popular languages for Data Science  \n- List commonly used Data Science libraries  \n- Understand basic arithmetic operations  \n- Introduce key tools in the Data Science ecosystem  \n",
      "metadata": {}
    },
    {
      "cell_type": "markdown",
      "source": "## Author  \nHoudegbe  \n",
      "metadata": {}
    },
    {
      "cell_type": "code",
      "source": "",
      "metadata": {
        "trusted": true
      },
      "outputs": [],
      "execution_count": null
    }
  ]
}